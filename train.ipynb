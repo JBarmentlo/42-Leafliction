{
 "cells": [
  {
   "cell_type": "code",
   "execution_count": 1,
   "metadata": {},
   "outputs": [
    {
     "name": "stdout",
     "output_type": "stream",
     "text": [
      "Initiated loader on folder /home/joep/Code/Leafliction/images. Found 7233 images.\n"
     ]
    }
   ],
   "source": [
    "from pathlib import Path\n",
    "import torch\n",
    "import torch.nn as nn\n",
    "import torch.nn.functional as F\n",
    "\n",
    "from leafy.loader import ImageLoader\n",
    "from leafy.trainloader import TrainLoader\n",
    "\n",
    "data_folder = Path(\"./images\")\n",
    "loader = ImageLoader(data_folder=data_folder)\n",
    "trainloader = TrainLoader(loader)\n",
    "\n",
    "# class_distribution = loader.get_better_class_distribution()"
   ]
  },
  {
   "cell_type": "code",
   "execution_count": 2,
   "metadata": {},
   "outputs": [
    {
     "data": {
      "text/plain": [
       "tensor([[0, 0, 0,  ..., 1, 0, 0],\n",
       "        [0, 0, 0,  ..., 1, 0, 0],\n",
       "        [0, 0, 0,  ..., 1, 0, 0],\n",
       "        ...,\n",
       "        [0, 0, 1,  ..., 0, 0, 0],\n",
       "        [0, 0, 1,  ..., 0, 0, 0],\n",
       "        [0, 0, 1,  ..., 0, 0, 0]])"
      ]
     },
     "execution_count": 2,
     "metadata": {},
     "output_type": "execute_result"
    }
   ],
   "source": [
    "trainloader.gt\n"
   ]
  },
  {
   "cell_type": "code",
   "execution_count": 4,
   "metadata": {},
   "outputs": [
    {
     "data": {
      "text/plain": [
       "torch.float32"
      ]
     },
     "execution_count": 4,
     "metadata": {},
     "output_type": "execute_result"
    }
   ],
   "source": []
  },
  {
   "cell_type": "code",
   "execution_count": 3,
   "metadata": {},
   "outputs": [
    {
     "data": {
      "application/vnd.jupyter.widget-view+json": {
       "model_id": "f9261f3861c14338b18221a2813c1d55",
       "version_major": 2,
       "version_minor": 0
      },
      "text/plain": [
       "  0%|          | 0/7233 [00:00<?, ?it/s]"
      ]
     },
     "metadata": {},
     "output_type": "display_data"
    },
    {
     "name": "stdout",
     "output_type": "stream",
     "text": [
      "torch.Size([3, 256, 256])\n",
      "{'Grape_Esca', 'Grape_healthy', 'Apple_scab', 'Apple_rust', 'Grape_spot', 'Grape_Black_rot', 'Apple_healthy', 'Apple_Black_rot'}\n"
     ]
    }
   ],
   "source": [
    "from tqdm.notebook import tqdm\n",
    "classes = set()\n",
    "\n",
    "for im, c in tqdm(loader):\n",
    "    classes.add(c)\n",
    "\n",
    "print(im.shape)\n",
    "print(classes)"
   ]
  },
  {
   "cell_type": "code",
   "execution_count": 3,
   "metadata": {},
   "outputs": [
    {
     "ename": "NameError",
     "evalue": "name 'classes' is not defined",
     "output_type": "error",
     "traceback": [
      "\u001b[0;31m---------------------------------------------------------------------------\u001b[0m",
      "\u001b[0;31mNameError\u001b[0m                                 Traceback (most recent call last)",
      "\u001b[1;32m/home/joep/Code/Leafliction/train.ipynb Cell 4\u001b[0m line \u001b[0;36m2\n\u001b[1;32m     <a href='vscode-notebook-cell:/home/joep/Code/Leafliction/train.ipynb#W5sZmlsZQ%3D%3D?line=23'>24</a>\u001b[0m         x \u001b[39m=\u001b[39m \u001b[39mself\u001b[39m\u001b[39m.\u001b[39mfc(x\u001b[39m.\u001b[39mview(\u001b[39m-\u001b[39m\u001b[39m1\u001b[39m))\n\u001b[1;32m     <a href='vscode-notebook-cell:/home/joep/Code/Leafliction/train.ipynb#W5sZmlsZQ%3D%3D?line=24'>25</a>\u001b[0m         \u001b[39mreturn\u001b[39;00m F\u001b[39m.\u001b[39msoftmax(x)\n\u001b[0;32m---> <a href='vscode-notebook-cell:/home/joep/Code/Leafliction/train.ipynb#W5sZmlsZQ%3D%3D?line=27'>28</a>\u001b[0m net \u001b[39m=\u001b[39m BasicClassifier([\u001b[39m3\u001b[39m, \u001b[39m256\u001b[39m, \u001b[39m256\u001b[39m], classes)\n\u001b[1;32m     <a href='vscode-notebook-cell:/home/joep/Code/Leafliction/train.ipynb#W5sZmlsZQ%3D%3D?line=29'>30</a>\u001b[0m y \u001b[39m=\u001b[39m net(im)\n\u001b[1;32m     <a href='vscode-notebook-cell:/home/joep/Code/Leafliction/train.ipynb#W5sZmlsZQ%3D%3D?line=30'>31</a>\u001b[0m \u001b[39mprint\u001b[39m(y)\n",
      "\u001b[0;31mNameError\u001b[0m: name 'classes' is not defined"
     ]
    }
   ],
   "source": [
    "import torch.nn as nn\n",
    "import torch.nn.functional as F\n",
    "\n",
    "from torch.nn import Module\n",
    "\n",
    "class BasicClassifier(Module):\n",
    "    def __init__(self, input_shape, classes):\n",
    "        super(BasicClassifier, self).__init__()\n",
    "        self.conv1 = nn.Conv2d(in_channels=3, out_channels=8, kernel_size=5)\n",
    "        self.conv2 = nn.Conv2d(8, 16, 5)\n",
    "        self.conv3 = nn.Conv2d(16, 32, 5)\n",
    "        self.conv4 = nn.Conv2d(32, 16, 5)\n",
    "        self.conv5 = nn.Conv2d(16, 8, 5)\n",
    "        self.conv6 = nn.Conv2d(8, 4, 5)\n",
    "        # self.convs = [self.conv1 ,self.conv2 ,self.conv3 ,self.conv4 ,self.conv5 ,self.conv6]\n",
    "        self.convs = [self.conv1, self.conv2, self.conv5, self.conv6]\n",
    "        self.pool = nn.MaxPool2d(2, 2)\n",
    "        self.fc = nn.Linear(4 * 12 * 12, len(classes))\n",
    "        \n",
    "    def forward(self, x):\n",
    "        for conv in self.convs:\n",
    "            x = self.pool(F.relu(conv(x)))\n",
    "        \n",
    "        x = self.fc(x.view(-1))\n",
    "        return F.softmax(x)\n",
    "\n",
    "\n",
    "net = BasicClassifier([3, 256, 256], classes)\n",
    "\n",
    "y = net(im)\n",
    "print(y)\n"
   ]
  },
  {
   "cell_type": "code",
   "execution_count": 4,
   "metadata": {},
   "outputs": [],
   "source": []
  },
  {
   "cell_type": "code",
   "execution_count": null,
   "metadata": {},
   "outputs": [],
   "source": [
    "import torch\n",
    "import torch.nn as nn\n",
    "import torch.nn.functional as F\n",
    "\n",
    "\n",
    "class DoubleConv(nn.Module):\n",
    "    \"\"\"(convolution => [BN] => ReLU) * 2\"\"\"\n",
    "\n",
    "    def __init__(self, in_channels, out_channels, mid_channels=None):\n",
    "        super().__init__()\n",
    "        if not mid_channels:\n",
    "            mid_channels = out_channels\n",
    "        self.double_conv = nn.Sequential(\n",
    "            nn.Conv2d(in_channels, mid_channels, kernel_size=3, padding=1, bias=False),\n",
    "            nn.BatchNorm2d(mid_channels),\n",
    "            nn.ReLU(inplace=True),\n",
    "            nn.Conv2d(mid_channels, out_channels, kernel_size=3, padding=1, bias=False),\n",
    "            nn.BatchNorm2d(out_channels),\n",
    "            nn.ReLU(inplace=True)\n",
    "        )\n",
    "\n",
    "    def forward(self, x):\n",
    "        return self.double_conv(x)\n",
    "\n",
    "\n",
    "class Down(nn.Module):\n",
    "    \"\"\"Downscaling with maxpool then double conv\"\"\"\n",
    "\n",
    "    def __init__(self, in_channels, out_channels):\n",
    "        super().__init__()\n",
    "        self.maxpool_conv = nn.Sequential(\n",
    "            nn.MaxPool2d(2),\n",
    "            DoubleConv(in_channels, out_channels)\n",
    "        )\n",
    "\n",
    "    def forward(self, x):\n",
    "        return self.maxpool_conv(x)\n",
    "\n",
    "\n",
    "class Up(nn.Module):\n",
    "    \"\"\"Upscaling then double conv\"\"\"\n",
    "\n",
    "    def __init__(self, in_channels, out_channels, bilinear=True):\n",
    "        super().__init__()\n",
    "        self.up = nn.ConvTranspose2d(in_channels, in_channels // 2, kernel_size=2, stride=2)\n",
    "        self.conv = DoubleConv(in_channels, out_channels)\n",
    "\n",
    "    def forward(self, x1, x2):\n",
    "        x1 = self.up(x1)\n",
    "        # input is CHWQ\n",
    "        diffY = x2.size()[2] - x1.size()[2]\n",
    "        diffX = x2.size()[3] - x1.size()[3]\n",
    "\n",
    "        x1 = F.pad(x1, [diffX // 2, diffX - diffX // 2,\n",
    "                        diffY // 2, diffY - diffY // 2])\n",
    "        # if you have padding issues, see\n",
    "        # https://github.com/HaiyongJiang/U-Net-Pytorch-Unstructured-Buggy/commit/0e854509c2cea854e247a9c615f175f76fbb2e3a\n",
    "        # https://github.com/xiaopeng-liao/Pytorch-UNet/commit/8ebac70e633bac59fc22bb5195e513d5832fb3bd\n",
    "        x = torch.cat([x2, x1], dim=1)\n",
    "        return self.conv(x)\n",
    "\n",
    "\n",
    "class OutConv(nn.Module):\n",
    "    def __init__(self, in_channels, out_channels):\n",
    "        super(OutConv, self).__init__()\n",
    "        self.conv = nn.Conv2d(in_channels, out_channels, kernel_size=1)\n",
    "\n",
    "    def forward(self, x):\n",
    "        return self.conv(x)\n",
    "\n",
    "\n",
    "class UNet(nn.Module):\n",
    "    def __init__(self, n_channels = 1, n_classes = 1, width = 64, depth = 4, bilinear=False):\n",
    "        super(UNet, self).__init__()\n",
    "        self.down  = nn.ModuleList()\n",
    "        self.up    = nn.ModuleList()\n",
    "\n",
    "        for i in range(depth):\n",
    "            self.down.append(Down(width * 2**i    , width * 2**(i+1)))\n",
    "            self.up.insert(0,  Up(width * 2**(i+1), width * 2**i    , bilinear))\n",
    "\n",
    "        self.down.insert(0, DoubleConv(n_channels, width))\n",
    "        self.outc = OutConv(width, n_classes)\n",
    "\n",
    "\n",
    "    def forward(self, x):\n",
    "        values = [x]\n",
    "\n",
    "        for layer in self.down:\n",
    "            values.append(layer(values[-1]))\n",
    "\n",
    "        for layer in self.up:\n",
    "            first  = values.pop(-1)\n",
    "            second = values.pop(-1)\n",
    "            values.append(layer(first, second))\n",
    "\n",
    "        return self.outc(values[-1])\n",
    "\n",
    "\n",
    "unet_layer_classes = {\n",
    "    'DoubleConv' : DoubleConv,\n",
    "    'Down'       : Down,\n",
    "    'Up'         : Up,\n",
    "    'OutConv'    : OutConv,\n",
    "    'UNet'       : UNet,\n",
    "}"
   ]
  }
 ],
 "metadata": {
  "kernelspec": {
   "display_name": "venv",
   "language": "python",
   "name": "python3"
  },
  "language_info": {
   "codemirror_mode": {
    "name": "ipython",
    "version": 3
   },
   "file_extension": ".py",
   "mimetype": "text/x-python",
   "name": "python",
   "nbconvert_exporter": "python",
   "pygments_lexer": "ipython3",
   "version": "3.8.10"
  }
 },
 "nbformat": 4,
 "nbformat_minor": 2
}
