{
 "cells": [
  {
   "cell_type": "code",
   "execution_count": 61,
   "metadata": {},
   "outputs": [],
   "source": [
    "import torch\n",
    "from torch.utils.data import DataLoader, Dataset\n",
    "from pathlib import Path\n",
    "from PIL import Image\n",
    "from torchvision.transforms import ToTensor\n",
    "from collections import Counter\n",
    "from typing import Tuple\n",
    "\n",
    "class AppleLoader(Dataset):\n",
    "    def __init__(self, data_folder: Path):\n",
    "        self.data_folder = data_folder\n",
    "        self.image_files = list(self.data_folder.glob(\"**/*.JPG\"))\n",
    "        self.totensor = ToTensor()\n",
    "        assert self.data_folder.is_dir()\n",
    "    \n",
    "    @staticmethod\n",
    "    def _get_fruit_and_disease(filename: str) -> Tuple[str, str]:\n",
    "        fruit, *disease = filename.split(\"_\")\n",
    "        disease = '_'.join(disease)\n",
    "        return fruit, disease\n",
    "    \n",
    "    @staticmethod\n",
    "    def _get_fruit(path: Path) -> str:\n",
    "        fruit, disease = AppleLoader._get_fruit_and_disease(path.parent.name)\n",
    "        return fruit\n",
    "    \n",
    "    @staticmethod\n",
    "    def _get_disease(path: Path) -> str:\n",
    "        fruit, disease = AppleLoader._get_fruit_and_disease(path.parent.name)\n",
    "        return disease\n",
    "    \n",
    "    def _get_class(self, path: Path) -> str:\n",
    "        return path.parent.name\n",
    "\n",
    "    def _get_image(self, path: Path) -> torch.Tensor:\n",
    "        im = Image.open(path)\n",
    "        return self.totensor(im)\n",
    "    \n",
    "    def get_class_distribution(self):\n",
    "        class_lst = [im_class for _, im_class in self]\n",
    "        return Counter(class_lst)\n",
    "        \n",
    "    def get_better_class_distribution(self):\n",
    "        out = {}\n",
    "        for k, v in self.get_class_distribution().items():\n",
    "            fruit, disease = AppleLoader._get_fruit_and_disease(k)\n",
    "            if fruit not in out:\n",
    "                out[fruit] = {}\n",
    "            out[fruit][disease] = v\n",
    "        return out\n",
    "\n",
    "    def __len__(self):\n",
    "        return len(self.image_files)\n",
    "    \n",
    "    def __getitem__(self, index):\n",
    "        return self._get_image(self.image_files[index]), self._get_class(self.image_files[index])\n",
    "        \n",
    "data_folder = Path(\"./images\")\n",
    "loader = AppleLoader(data_folder)        "
   ]
  },
  {
   "cell_type": "code",
   "execution_count": 78,
   "metadata": {},
   "outputs": [],
   "source": [
    "import matplotlib.pyplot as plt\n",
    "from random import shuffle\n",
    "import numpy as np\n",
    "\n",
    "import matplotlib.colors as mcolors\n",
    "color_list = list(mcolors.cnames.values())\n",
    "shuffle(color_list)    \n",
    "\n",
    "class_distribution = loader.get_better_class_distribution()\n",
    "# class_distribution = {\"Apple\": class_distribution[\"Apple\"]}\n",
    "fig = plt.figure(figsize = (18, 8 * len(class_distribution)))\n",
    "axes = fig.subplots(len(class_distribution), 2)\n",
    "\n",
    "if not isinstance(axes[0], np.ndarray):\n",
    "    axes = np.array([axes])\n",
    "\n",
    "color_offset = 0\n",
    "for ax, fruit in zip(axes, class_distribution.keys()):\n",
    "    print(fruit)\n",
    "    fruit_distribution = class_distribution[fruit]\n",
    "    names              = list(fruit_distribution.keys())\n",
    "    values             = list(fruit_distribution.values())\n",
    "    print(type(ax))\n",
    "    print(ax)\n",
    "    pieax = ax[0]\n",
    "    pieax.set_title(f\"Class Distribution: {fruit}\")    \n",
    "    pieax.pie(values, labels=names, colors=list(color_list)[color_offset:color_offset+len(names)], autopct='%1.1f%%')\n",
    "    \n",
    "    barax = ax[1]\n",
    "    barax.set_title(f\"Class Distribution: {fruit}\")    \n",
    "    barax.bar(range(len(names)), values, tick_label=names, color=list(color_list)[color_offset:color_offset+len(names)])\n",
    "    \n",
    "    color_offset += len(names)\n",
    "\n",
    "plt.show()"
   ]
  },
  {
   "cell_type": "code",
   "execution_count": 15,
   "metadata": {},
   "outputs": [
    {
     "name": "stdout",
     "output_type": "stream",
     "text": [
      "Grape Esca\n",
      "Apple healthy\n",
      "Apple Black_rot\n",
      "Apple rust\n",
      "Apple scab\n",
      "Grape healthy\n",
      "Grape spot\n",
      "Grape Black_rot\n"
     ]
    },
    {
     "data": {
      "text/plain": [
       "{'Grape': {'Esca': 1382, 'healthy': 422, 'spot': 1075, 'Black_rot': 1178},\n",
       " 'Apple': {'healthy': 1640, 'Black_rot': 620, 'rust': 275, 'scab': 629}}"
      ]
     },
     "execution_count": 15,
     "metadata": {},
     "output_type": "execute_result"
    }
   ],
   "source": [
    "c = class_distribution\n",
    "c\n",
    "new = {}\n",
    "for k, v in c.items():\n",
    "    fruit, disease = AppleLoader._get_fruit_and_disease(k)\n",
    "    print(fruit, disease)\n",
    "    if fruit not in new:\n",
    "        new[fruit] = {}\n",
    "    new[fruit][disease] = v\n",
    "\n",
    "\n",
    "class_distribution = loader.get_class_distribution()\n",
    "names              = list(class_distribution.keys())\n",
    "values             = list(class_distribution.values())\n",
    "\n",
    "fig = plt.figure(figsize = (18, 8))\n",
    "ax  = fig.add_subplot(111)\n",
    "ax.set_title(f\"Class Distribution: {data_folder}\")    \n",
    "ax.bar(range(len(class_distribution)), values, tick_label=names)\n",
    "plt.show()\n",
    "\n",
    "    "
   ]
  },
  {
   "cell_type": "code",
   "execution_count": 76,
   "metadata": {},
   "outputs": [
    {
     "name": "stdout",
     "output_type": "stream",
     "text": [
      "axes          = array([<Axes: >, <Axes: >], dtype=object)\n",
      "type(axes)    = <class 'numpy.ndarray'>\n",
      "type(axes[0]) = <class 'matplotlib.axes._axes.Axes'>\n",
      "2\n",
      "\n",
      "axes          = array([[<Axes: >, <Axes: >],\n",
      "       [<Axes: >, <Axes: >]], dtype=object)\n",
      "type(axes)    = <class 'numpy.ndarray'>\n",
      "type(axes[0]) = <class 'numpy.ndarray'>\n",
      "2\n",
      "2\n"
     ]
    },
    {
     "data": {
      "image/png": "[encoded data removed]",
      "text/plain": [
       "<Figure size 1800x800 with 6 Axes>"
      ]
     },
     "metadata": {},
     "output_type": "display_data"
    }
   ],
   "source": [
    "fig = plt.figure(figsize = (18, 8 * len(class_distribution)))\n",
    "axes = fig.subplots(1, 2)\n",
    "\n",
    "print(f\"{axes          = }\")\n",
    "print(f\"{type(axes)    = }\")\n",
    "print(f\"{type(axes[0]) = }\")\n",
    "print(len(axes))\n",
    "\n",
    "print()\n",
    "axes = fig.subplots(2, 2)\n",
    "\n",
    "print(f\"{axes          = }\")\n",
    "print(f\"{type(axes)    = }\")\n",
    "print(f\"{type(axes[0]) = }\")\n"
   ]
  }
 ],
 "metadata": {
  "kernelspec": {
   "display_name": "venv",
   "language": "python",
   "name": "python3"
  },
  "language_info": {
   "codemirror_mode": {
    "name": "ipython",
    "version": 3
   },
   "file_extension": ".py",
   "mimetype": "text/x-python",
   "name": "python",
   "nbconvert_exporter": "python",
   "pygments_lexer": "ipython3",
   "version": "3.10.6"
  },
  "orig_nbformat": 4
 },
 "nbformat": 4,
 "nbformat_minor": 2
}
